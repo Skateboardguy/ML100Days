{
 "cells": [
  {
   "cell_type": "code",
   "execution_count": 34,
   "id": "e0eb5dbd",
   "metadata": {},
   "outputs": [
    {
     "data": {
      "text/plain": [
       "'math.pi = 3.141592653589793'"
      ]
     },
     "execution_count": 34,
     "metadata": {},
     "output_type": "execute_result"
    }
   ],
   "source": [
    "import math  \n",
    "'math.pi = {0.pi}'.format(math)"
   ]
  },
  {
   "cell_type": "code",
   "execution_count": 24,
   "id": "221c7a71",
   "metadata": {},
   "outputs": [
    {
     "name": "stdout",
     "output_type": "stream",
     "text": [
      "【日期時間】2021-05-24 13:09:15\n",
      "【工作目錄】/Users/sky/Documents/GitHub/ML100Days/homework\n",
      "【主機名稱】127.0.0.1 (Skyde-MacBook-Air.local)\n",
      "【Python】3.8.8\n"
     ]
    }
   ],
   "source": [
    "\n",
    "from platform import python_version\n",
    "import os, time, socket\n",
    "import numpy as np\n",
    "\n",
    "#from time import localtime\n",
    "print('【日期時間】{0}'.format(time.strftime(\"%Y-%m-%d %H:%M:%S\")))\n",
    "print('【工作目錄】{}'.format(os.getcwd()))\n",
    "print(\"【主機名稱】{1} ({0})\".format(socket.gethostname(),socket.gethostbyname(socket.gethostname())))\n",
    "print(\"【Python】{}\".format(python_version()))\n"
   ]
  },
  {
   "cell_type": "markdown",
   "id": "d0feff7d",
   "metadata": {},
   "source": [
    "numpy.array(object, dtype=None, *, copy=True, order='K', subok=False, ndmin=0, like=None)\n",
    "\n",
    "- object：必填，任何 array_like 物件\n",
    "- dtype：指定轉成陣列後的元素型態\n",
    "- copy：預設為 True，是否產生一個新的物件\n",
    "- order：指定元素在記憶體中的儲存方式"
   ]
  },
  {
   "cell_type": "code",
   "execution_count": 6,
   "id": "3e473fd6",
   "metadata": {},
   "outputs": [
    {
     "data": {
      "text/plain": [
       "array([1.+0.j, 2.+0.j, 3.+0.j])"
      ]
     },
     "execution_count": 6,
     "metadata": {},
     "output_type": "execute_result"
    }
   ],
   "source": [
    "np.array([1,2,3], dtype = complex)"
   ]
  },
  {
   "cell_type": "code",
   "execution_count": 15,
   "id": "96f888a6",
   "metadata": {},
   "outputs": [
    {
     "data": {
      "text/plain": [
       "array([[  0, 123],\n",
       "       [  1, 456]])"
      ]
     },
     "execution_count": 15,
     "metadata": {},
     "output_type": "execute_result"
    }
   ],
   "source": [
    "np.array({0: 123, 1: 456})\n",
    "# array({0: 123, 1: 456})\n",
    "np.array(list({0: 123, 1: 456}.items()))"
   ]
  },
  {
   "cell_type": "code",
   "execution_count": 57,
   "id": "ed413d8d",
   "metadata": {},
   "outputs": [
    {
     "name": "stdout",
     "output_type": "stream",
     "text": [
      "[[0 0 0]\n",
      " [0 0 0]]\n",
      "[[1. 1. 1.]\n",
      " [1. 1. 1.]]\n",
      "[[168 168 168]\n",
      " [168 168 168]]\n"
     ]
    }
   ],
   "source": [
    "print(np.zeros((2, 3), dtype = int))\n",
    "# 建立由 0 組成的 2x3 陣列\n",
    "print(np.ones((2, 3)))\n",
    "# 建立由 1 組成的 2x3 陣列\n",
    "print(np.full((2, 3), 168))\n",
    "# 建立由 9 組成的 2x3 陣列"
   ]
  },
  {
   "cell_type": "code",
   "execution_count": 84,
   "id": "19bc6ca9",
   "metadata": {},
   "outputs": [
    {
     "name": "stdout",
     "output_type": "stream",
     "text": [
      "[[0. 0. 0.]\n",
      " [0. 0. 0.]]\n"
     ]
    },
    {
     "data": {
      "text/plain": [
       "array([[0., 0., 0.],\n",
       "       [0., 0., 0.]])"
      ]
     },
     "execution_count": 84,
     "metadata": {},
     "output_type": "execute_result"
    }
   ],
   "source": [
    "print(np.zeros((2, 3)))\n",
    "#\n",
    "np.empty((2,3))\n",
    "#使用 empty() 函式則是不需要給定起始值，但是可以建立給定形狀的陣列，元素值則會隨機給定\n"
   ]
  },
  {
   "cell_type": "code",
   "execution_count": 67,
   "id": "90c0608f",
   "metadata": {},
   "outputs": [
    {
     "name": "stdout",
     "output_type": "stream",
     "text": [
      "[1 3 5 7 9]\n",
      "[ 1 10]\n"
     ]
    },
    {
     "data": {
      "text/plain": [
       "array([  1.        ,   1.09854114,   1.20679264,   1.32571137,\n",
       "         1.45634848,   1.59985872,   1.75751062,   1.93069773,\n",
       "         2.12095089,   2.32995181,   2.55954792,   2.8117687 ,\n",
       "         3.0888436 ,   3.39322177,   3.72759372,   4.09491506,\n",
       "         4.49843267,   4.94171336,   5.42867544,   5.96362332,\n",
       "         6.55128557,   7.19685673,   7.90604321,   8.68511374,\n",
       "         9.54095476,  10.48113134,  11.51395399,  12.64855217,\n",
       "        13.89495494,  15.26417967,  16.76832937,  18.42069969,\n",
       "        20.23589648,  22.22996483,  24.42053095,  26.82695795,\n",
       "        29.47051703,  32.37457543,  35.56480306,  39.06939937,\n",
       "        42.9193426 ,  47.14866363,  51.79474679,  56.89866029,\n",
       "        62.50551925,  68.6648845 ,  75.43120063,  82.86427729,\n",
       "        91.0298178 , 100.        ])"
      ]
     },
     "execution_count": 67,
     "metadata": {},
     "output_type": "execute_result"
    }
   ],
   "source": [
    "# np.linspace(start, stop, num=50, endpoint=True, retstep=False, dtype=None)\n",
    "print(np.arange(1,10,2)) # 不包含尾數 (固定長度等差序列)\n",
    "print(np.linspace(1,10,2, dtype=int))  # 包含尾數(固定區間等差序列)\n",
    "np.logspace(0,2) # 返回對數分佈(等比序列)"
   ]
  },
  {
   "cell_type": "code",
   "execution_count": 79,
   "id": "f77ef37a",
   "metadata": {},
   "outputs": [
    {
     "name": "stdout",
     "output_type": "stream",
     "text": [
      "[[ 1.14450577 -0.23623407]\n",
      " [ 0.44277411 -0.04739682]\n",
      " [ 0.68499295  0.12914291]]\n",
      "[[0.24430783 0.94805474]\n",
      " [0.83147829 0.20366023]\n",
      " [0.94656033 0.68596358]]\n",
      "[[5 7]\n",
      " [3 3]\n",
      " [0 1]]\n"
     ]
    }
   ],
   "source": [
    "from numpy.random import default_rng\n",
    "rng = default_rng()\n",
    "\n",
    "normal = rng.standard_normal((3,2)) #標準常態分佈\n",
    "random = rng.random((3,2)) #隨機分佈\n",
    "integers = rng.integers(0, 10, size=(3,2))\n",
    "print(normal)\n",
    "print(random)\n",
    "print(integers)"
   ]
  },
  {
   "cell_type": "code",
   "execution_count": 80,
   "id": "4a257bef",
   "metadata": {},
   "outputs": [
    {
     "name": "stdout",
     "output_type": "stream",
     "text": [
      "[[0 0]\n",
      " [8 1]\n",
      " [5 3]]\n"
     ]
    }
   ],
   "source": [
    "integers = rng.integers(0, 10, size=(3,2))\n",
    "print(integers)"
   ]
  },
  {
   "cell_type": "markdown",
   "id": "150a115c",
   "metadata": {},
   "source": [
    "\n",
    "[簡答題] \n",
    "1. 請比較 np.zeros 和 np.empty 產生出來的陣列有何差異？為什麼要設計兩種方法？\n",
    "2. 在不用「整數亂數方法」的限制下，如何將包含小數的轉換整數？請將給定的 a 陣列當中的元素變成去掉小數變成整數。\n",
    "3. 承上題，怎樣可以限制整數的範圍介於 m - n 之間？請將給定的 a 陣列當中的元素的範圍調整成 m - n 之間。"
   ]
  },
  {
   "cell_type": "markdown",
   "id": "916383bf",
   "metadata": {},
   "source": [
    "### 1. [簡答題] 請比較 np.zeros 和 np.empty 產生出來的陣列有何差異？為什麼要設計兩種方法？"
   ]
  },
  {
   "cell_type": "code",
   "execution_count": 91,
   "id": "5de22415",
   "metadata": {
    "scrolled": true
   },
   "outputs": [
    {
     "name": "stdout",
     "output_type": "stream",
     "text": [
      "[[0. 0. 0.]\n",
      " [0. 0. 0.]\n",
      " [0. 0. 0.]]\n",
      "[[0. 0. 0.]\n",
      " [0. 0. 0.]\n",
      " [0. 0. 0.]]\n"
     ]
    }
   ],
   "source": [
    "#np.zeros(): 可以依照傳入的形狀引數，建立元素全為 0的陣列\n",
    "print(np.zeros((3,3)))\n",
    "\n",
    "#np.empty(): 不避設定起始值,但是可以建立給定形狀的陣列，元素值則會隨機給定。\n",
    "print(np.empty((3,3)))"
   ]
  },
  {
   "cell_type": "markdown",
   "id": "162c47a1",
   "metadata": {},
   "source": [
    "### 2. 在不用「整數亂數方法」的限制下，如何將包含小數的轉換整數？請將給定的 a 陣列當中的元素變成去掉小數變成整數。"
   ]
  },
  {
   "cell_type": "code",
   "execution_count": 144,
   "id": "dd7537ac",
   "metadata": {},
   "outputs": [
    {
     "name": "stdout",
     "output_type": "stream",
     "text": [
      "[[0.35422093 0.29917866 0.36156553]\n",
      " [0.6679192  0.23280279 0.73288962]]\n",
      "[[0 0 0]\n",
      " [0 0 0]]\n"
     ]
    }
   ],
   "source": [
    "\n",
    "a = rng.random((2, 3))\n",
    "print(a)\n",
    "\n",
    "b = np.array(a, dtype = 'int8')\n",
    "print(b.round())"
   ]
  },
  {
   "cell_type": "markdown",
   "id": "710ca951",
   "metadata": {},
   "source": [
    "### 3. 承上題，怎樣可以限制整數的範圍介於 m - n 之間？請將給定的 a 陣列當中的元素的範圍調整成 m - n 之間。"
   ]
  },
  {
   "cell_type": "code",
   "execution_count": 157,
   "id": "c4e827ab",
   "metadata": {},
   "outputs": [
    {
     "name": "stdout",
     "output_type": "stream",
     "text": [
      "[20. 24. 28. 32. 36. 40.]\n"
     ]
    }
   ],
   "source": [
    "# 使用 linspace 函數，產生固定區間的陣列\n",
    "m = 20 \n",
    "n= 40\n",
    "a = np.linspace(m,n, 6)\n",
    "print(a)"
   ]
  }
 ],
 "metadata": {
  "kernelspec": {
   "display_name": "Python 3",
   "language": "python",
   "name": "python3"
  },
  "language_info": {
   "codemirror_mode": {
    "name": "ipython",
    "version": 3
   },
   "file_extension": ".py",
   "mimetype": "text/x-python",
   "name": "python",
   "nbconvert_exporter": "python",
   "pygments_lexer": "ipython3",
   "version": "3.8.8"
  }
 },
 "nbformat": 4,
 "nbformat_minor": 5
}
