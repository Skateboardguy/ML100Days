{
 "cells": [
  {
   "cell_type": "code",
   "execution_count": 8,
   "metadata": {},
   "outputs": [
    {
     "name": "stdout",
     "output_type": "stream",
     "text": [
      "【日期時間】2024/09/28 14:30:05\n",
      "【工作目錄】/Users/sky/Documents/GitHub/ML100Days/homework\n",
      "【主機名稱】Skyde-MacBook-Air.local (127.0.0.1)\n",
      "【Python】3.8.16\n"
     ]
    }
   ],
   "source": [
    "#from platform import python_version\n",
    "#import os, time, socket\n",
    "\n",
    "print(\"【日期時間】{}\".format(time.strftime(\"%Y/%m/%d %H:%M:%S\")))\n",
    "print(\"【工作目錄】{}\".format(os.getcwd()))\n",
    "print(\"【主機名稱】{} ({})\".format(socket.gethostname(),socket.gethostbyname(socket.gethostname())))\n",
    "print(\"【Python】{}\".format(python_version()))"
   ]
  },
  {
   "cell_type": "code",
   "execution_count": null,
   "metadata": {
    "id": "P6xk2_jLsvFF"
   },
   "outputs": [],
   "source": [
    "# [作業目標]\n",
    "\n",
    "1. [簡答題] 請問下列這三種方法有什麼不同？\n",
    "\n",
    "```\n",
    "print(a.sum()) \n",
    "print(np.sum(a))\n",
    "print(sum(a)) \n",
    "```\n",
    "\n",
    "2. 請對一個 5x5 的隨機矩陣作正規化的操作。\n",
    "\n",
    "3. 請建立一個長度等於 10 的正整數向量，並且將其中的最大值改成 -1。\n"
   ]
  },
  {
   "cell_type": "markdown",
   "metadata": {
    "id": "uXGll28asvFS"
   },
   "source": [
    "# 作業 "
   ]
  },
  {
   "cell_type": "code",
   "execution_count": null,
   "metadata": {
    "id": "lbz8VjL6jxyL"
   },
   "outputs": [],
   "source": [
    "### 1. [簡答題] 請問下列這三種方法有什麼不同？\n",
    "\n",
    "```\n",
    "可能有三種層級的函式,一樣結果\n",
    "print(a.sum()) \n",
    "print(np.sum(a))\n",
    "print(sum(a)) \n",
    "```\n",
    "\n"
   ]
  },
  {
   "cell_type": "markdown",
   "metadata": {
    "id": "5QrYoyNWsvFS",
    "outputId": "e9e14d36-38ce-4ce5-edf2-3c7b129db580"
   },
   "source": [
    "- a.sum()為a物件總和\n",
    "- np.sum(a)為np package使用\n",
    "- sum(a)加總a"
   ]
  },
  {
   "cell_type": "markdown",
   "metadata": {
    "id": "vVrjBXabjxyS"
   },
   "source": [
    "### 2. 請對一個 5x5 的隨機矩陣作正規化的操作。\n"
   ]
  },
  {
   "cell_type": "code",
   "execution_count": 5,
   "metadata": {
    "id": "ffDRVHs9jxyS"
   },
   "outputs": [
    {
     "name": "stdout",
     "output_type": "stream",
     "text": [
      "[[ 0  1  2  3  4]\n",
      " [ 5  6  7  8  9]\n",
      " [10 11 12 13 14]\n",
      " [15 16 17 18 19]\n",
      " [20 21 22 23 24]]\n"
     ]
    }
   ],
   "source": [
    "# 記得先 Import 正確的套件\n",
    "import numpy as np\n",
    "A = np.arange(25).reshape(5,5)\n",
    "print(A)\n"
   ]
  },
  {
   "cell_type": "code",
   "execution_count": 48,
   "metadata": {
    "id": "e1gVI0tvsvFY",
    "outputId": "43bf676f-fd04-4edf-c062-b5fe7fe1f4bf"
   },
   "outputs": [
    {
     "name": "stdout",
     "output_type": "stream",
     "text": [
      "[[0.26564477 0.19301927 0.38560945 0.13254544 0.94347969]\n",
      " [0.89645123 0.37205113 0.62861212 0.98839149 0.23394005]\n",
      " [0.8821434  0.85444327 0.69513468 0.74086641 0.09760763]\n",
      " [0.17622133 0.79160635 0.80574672 0.64850083 0.35971449]\n",
      " [0.8499539  0.91378248 0.30933817 0.10292876 0.23755767]]\n"
     ]
    },
    {
     "data": {
      "text/plain": [
       "array([[0.18863963, 0.10710976, 0.32331279, 0.03922141, 0.9495817 ],\n",
       "       [0.89678724, 0.30809213, 0.59610924, 1.        , 0.15304769],\n",
       "       [0.88072517, 0.84962883, 0.67078792, 0.72212667, 0.        ],\n",
       "       [0.08825226, 0.77908766, 0.79496175, 0.61843644, 0.29424293],\n",
       "       [0.84458903, 0.91624342, 0.23769014, 0.00597353, 0.15710885]])"
      ]
     },
     "execution_count": 48,
     "metadata": {},
     "output_type": "execute_result"
    }
   ],
   "source": [
    "# 正規化為轉換[0,1] \n",
    "A = np.random.random((5,5))\n",
    "print(A)\n",
    "B = (A- A.min())/(A.max()-A.min())\n",
    "B"
   ]
  },
  {
   "cell_type": "markdown",
   "metadata": {
    "id": "Ptc3ZrNQjxyU"
   },
   "source": [
    "### 3. 請建立一個長度等於 10 的正整數向量，並且將其中的最大值改成 -1。\n"
   ]
  },
  {
   "cell_type": "code",
   "execution_count": 79,
   "metadata": {
    "id": "Yu1kbLxojxyU",
    "outputId": "d323e754-178a-46ae-e15e-98275ae220dd"
   },
   "outputs": [
    {
     "name": "stdout",
     "output_type": "stream",
     "text": [
      "[2 4 7 3 6 4 7 8 1 8]\n"
     ]
    },
    {
     "data": {
      "text/plain": [
       "[2, 4, 7, 3, 6, 4, 7, -8, 1, -8]"
      ]
     },
     "execution_count": 79,
     "metadata": {},
     "output_type": "execute_result"
    }
   ],
   "source": [
    "import  numpy.random as rng\n",
    "A = rng.randint(1,10,10)\n",
    "print(A)\n",
    "B = []\n",
    "for i in A:\n",
    "  if i == A.max():\n",
    "    B.append(-i)\n",
    "  else:\n",
    "    B.append(i)\n",
    "B"
   ]
  }
 ],
 "metadata": {
  "colab": {
   "name": "06 Homework_維元.ipynb",
   "provenance": []
  },
  "kernelspec": {
   "display_name": "Python 3 (ipykernel)",
   "language": "python",
   "name": "python3"
  },
  "language_info": {
   "codemirror_mode": {
    "name": "ipython",
    "version": 3
   },
   "file_extension": ".py",
   "mimetype": "text/x-python",
   "name": "python",
   "nbconvert_exporter": "python",
   "pygments_lexer": "ipython3",
   "version": "3.8.16"
  }
 },
 "nbformat": 4,
 "nbformat_minor": 1
}
