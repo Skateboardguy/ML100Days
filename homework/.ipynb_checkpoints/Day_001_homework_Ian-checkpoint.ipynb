{
 "cells": [
  {
   "cell_type": "markdown",
   "metadata": {},
   "source": [
    "## [環境建置]"
   ]
  },
  {
   "cell_type": "code",
   "execution_count": 25,
   "metadata": {},
   "outputs": [
    {
     "name": "stdout",
     "output_type": "stream",
     "text": [
      "【日期時間】2021/04/18 00:26:00\n",
      "【工作目錄】/Users/sky/Documents/GitHub/ML100Days/howework\n",
      "【主機名稱】Skyde-MacBook-Air.local (127.0.0.1)\n",
      "【Python】3.8.5\n"
     ]
    },
    {
     "data": {
      "application/javascript": [
       "IPython.notebook.set_autosave_interval(120000)"
      ]
     },
     "metadata": {},
     "output_type": "display_data"
    },
    {
     "name": "stdout",
     "output_type": "stream",
     "text": [
      "Autosaving every 120 seconds\n"
     ]
    }
   ],
   "source": [
    "# -*- coding: utf-8 -*-\n",
    "from platform import python_version\n",
    "import os, time, socket\n",
    "\n",
    "print(\"【日期時間】{}\".format(time.strftime(\"%Y/%m/%d %H:%M:%S\")))\n",
    "print(\"【工作目錄】{}\".format(os.getcwd()))\n",
    "print(\"【主機名稱】{} ({})\".format(socket.gethostname(),socket.gethostbyname(socket.gethostname())))\n",
    "print(\"【Python】{}\".format(python_version()))\n",
    "\n",
    "%autosave 120"
   ]
  },
  {
   "cell_type": "code",
   "execution_count": null,
   "metadata": {
    "scrolled": true
   },
   "outputs": [],
   "source": [
    "import numpy as np"
   ]
  },
  {
   "cell_type": "code",
   "execution_count": 5,
   "metadata": {
    "collapsed": true
   },
   "outputs": [
    {
     "name": "stdout",
     "output_type": "stream",
     "text": [
      "Collecting np\n",
      "  Downloading np-1.0.2.tar.gz (7.4 kB)\n",
      "Building wheels for collected packages: np\n",
      "  Building wheel for np (setup.py) ... \u001b[?25ldone\n",
      "\u001b[?25h  Created wheel for np: filename=np-1.0.2-py3-none-any.whl size=13651 sha256=192522afeba11acfb6c235ef59629017ea2a79d4eac7c612fabfe4c29043f001\n",
      "  Stored in directory: /Users/sky/Library/Caches/pip/wheels/44/c8/fa/6341ec15fc1b7f1d7813744425e23817719133e2e6d2da01c9\n",
      "Successfully built np\n",
      "Installing collected packages: np\n",
      "Successfully installed np-1.0.2\n"
     ]
    }
   ],
   "source": [
    "!pip install --upgrade np"
   ]
  },
  {
   "cell_type": "code",
   "execution_count": 30,
   "metadata": {},
   "outputs": [
    {
     "name": "stdout",
     "output_type": "stream",
     "text": [
      "<module 'numpy' from '/opt/anaconda3/envs/Py38/lib/python3.8/site-packages/numpy/__init__.py'>\n",
      "1.19.2\n"
     ]
    }
   ],
   "source": [
    "print(np)\n",
    "print(np.__version__)"
   ]
  },
  {
   "cell_type": "code",
   "execution_count": 13,
   "metadata": {},
   "outputs": [
    {
     "name": "stdout",
     "output_type": "stream",
     "text": [
      "[[ 0  1  2  3  4]\n",
      " [ 5  6  7  8  9]\n",
      " [10 11 12 13 14]]\n",
      "<class 'numpy.ndarray'>\n"
     ]
    }
   ],
   "source": [
    "a = np.arange(15).reshape(3,5)\n",
    "print(a)\n",
    "print(type(a))"
   ]
  },
  {
   "cell_type": "code",
   "execution_count": 15,
   "metadata": {},
   "outputs": [
    {
     "name": "stdout",
     "output_type": "stream",
     "text": [
      "2\n",
      "(3, 5)\n",
      "15\n",
      "int64\n",
      "8\n",
      "<memory at 0x7f907a106110>\n"
     ]
    }
   ],
   "source": [
    "print(a.ndim)\n",
    "print(a.shape)\n",
    "print(a.size)\n",
    "print(a.dtype)\n",
    "print(a.itemsize)\n",
    "print(a.data)"
   ]
  },
  {
   "cell_type": "code",
   "execution_count": 22,
   "metadata": {},
   "outputs": [
    {
     "name": "stdout",
     "output_type": "stream",
     "text": [
      "[array([0, 1, 2, 3, 4]), array([5, 6, 7, 8, 9]), array([10, 11, 12, 13, 14])]\n"
     ]
    },
    {
     "data": {
      "text/plain": [
       "[[0, 1, 2, 3, 4], [5, 6, 7, 8, 9], [10, 11, 12, 13, 14]]"
      ]
     },
     "execution_count": 22,
     "metadata": {},
     "output_type": "execute_result"
    }
   ],
   "source": [
    "print(list(a))\n",
    "#----------\n",
    "a.tolist()"
   ]
  },
  {
   "cell_type": "markdown",
   "metadata": {},
   "source": [
    "### 1.  [簡答題] 請問下列兩種將 Array 轉換成 List 的方式有何不同？\n"
   ]
  },
  {
   "cell_type": "code",
   "execution_count": 32,
   "metadata": {},
   "outputs": [
    {
     "name": "stdout",
     "output_type": "stream",
     "text": [
      "list(a)只會第一層型態轉換為list:  [array([0, 1, 2, 3, 4]), array([5, 6, 7, 8, 9]), array([10, 11, 12, 13, 14])]\n",
      "tolist()多層型態轉換為list:  [[0, 1, 2, 3, 4], [5, 6, 7, 8, 9], [10, 11, 12, 13, 14]]\n"
     ]
    }
   ],
   "source": [
    "\n",
    "print('list(a)只會第一層型態轉換為list: ', list(a))\n",
    "print('tolist()多層型態轉換為list: ', a.tolist())"
   ]
  },
  {
   "cell_type": "markdown",
   "metadata": {},
   "source": [
    "### 2.   請試著在程式中印出以下三個 NdArray 的屬性？（屬性：ndim、shape、size、dtype、itemsize、length、type）"
   ]
  },
  {
   "cell_type": "code",
   "execution_count": 62,
   "metadata": {},
   "outputs": [
    {
     "name": "stdout",
     "output_type": "stream",
     "text": [
      "[9 6 7 9 2 6]\n",
      "1\n",
      "(6,)\n",
      "6\n",
      "int64\n",
      "8\n",
      "6\n",
      "<class 'type'>\n",
      "[[4 7 0 8]\n",
      " [8 5 4 5]\n",
      " [4 0 7 9]]\n",
      "2\n",
      "(3, 4)\n",
      "12\n",
      "int64\n",
      "8\n",
      "3\n",
      "<class 'numpy.ndarray'>\n",
      "[[[1 2]\n",
      "  [6 3]\n",
      "  [2 1]]\n",
      "\n",
      " [[1 2]\n",
      "  [1 4]\n",
      "  [9 9]]]\n",
      "3\n",
      "(2, 3, 2)\n",
      "12\n",
      "int64\n",
      "8\n",
      "2\n",
      "<class 'numpy.ndarray'>\n"
     ]
    }
   ],
   "source": [
    "a = np.random.randint(10, size=6)\n",
    "print(a)\n",
    "print(a.ndim)\n",
    "print(a.shape)\n",
    "print(a.size)\n",
    "print(a.dtype)    # 陣列中的資料型態\n",
    "print(a.itemsize)\n",
    "print(len(a))\n",
    "print(type)\n",
    "\"\"\"\n",
    "                                           \n",
    "\"\"\"\n",
    "b = np.random.randint(10, size=(3,4))\n",
    "print(b)\n",
    "print(b.ndim)\n",
    "print(b.shape)\n",
    "print(b.size)\n",
    "print(b.dtype)\n",
    "print(b.itemsize)\n",
    "print(len(b))\n",
    "print(type(b))\n",
    "#-------------------------------------------\n",
    "c = np.random.randint(10, size=(2,3,2))\n",
    "print(c)\n",
    "print(c.ndim)\n",
    "print(c.shape)\n",
    "print(c.size)\n",
    "print(c.dtype)\n",
    "print(c.itemsize)\n",
    "print(len(c))\n",
    "print(type(c))"
   ]
  },
  {
   "cell_type": "markdown",
   "metadata": {},
   "source": [
    "### 3.   如何利用 list(...) 實現 a.tolist() 的效果？試著用程式實作。"
   ]
  },
  {
   "cell_type": "code",
   "execution_count": 68,
   "metadata": {},
   "outputs": [
    {
     "name": "stdout",
     "output_type": "stream",
     "text": [
      "list(a)只會第一層型態轉換為list:  [7, 2, 2, 9, 8, 3]\n",
      "tolist()多層型態轉換為list:  [7, 2, 2, 9, 8, 3]\n"
     ]
    }
   ],
   "source": [
    "a = np.random.randint(10, size=6) #取整數 整數6個\n",
    "print('list(a)只會第一層型態轉換為list: ', list(a))\n",
    "print('tolist()多層型態轉換為list: ', a.tolist())"
   ]
  },
  {
   "cell_type": "code",
   "execution_count": 67,
   "metadata": {},
   "outputs": [
    {
     "name": "stdout",
     "output_type": "stream",
     "text": [
      "[[3 3 2 9]\n",
      " [1 9 3 7]\n",
      " [8 4 5 6]]\n",
      "list(b)只會第一層型態轉換為list:  [array([3, 3, 2, 9]), array([1, 9, 3, 7]), array([8, 4, 5, 6])]\n",
      "tolist()多層型態轉換為list:  [[3, 3, 2, 9], [1, 9, 3, 7], [8, 4, 5, 6]]\n"
     ]
    }
   ],
   "source": [
    "b = np.random.randint(10, size=(3,4)) \n",
    "print(b)\n",
    "\n",
    "print('list(b)只會第一層型態轉換為list: ', list(b))\n",
    "print('tolist()多層型態轉換為list: ', b.tolist())\n"
   ]
  },
  {
   "cell_type": "code",
   "execution_count": 69,
   "metadata": {},
   "outputs": [
    {
     "name": "stdout",
     "output_type": "stream",
     "text": [
      "list(a)只會第一層型態轉換為list:  [array([[0, 3],\n",
      "       [2, 0],\n",
      "       [6, 1]]), array([[6, 7],\n",
      "       [8, 3],\n",
      "       [4, 3]])]\n",
      "tolist()多層型態轉換為list:  [[[0, 3], [2, 0], [6, 1]], [[6, 7], [8, 3], [4, 3]]]\n"
     ]
    }
   ],
   "source": [
    "c = np.random.randint(10, size=(2,3,2))\n",
    "print('list(c)只會第一層型態轉換為list: ', list(c))\n",
    "print('tolist()多層型態轉換為list: ', c.tolist())"
   ]
  },
  {
   "cell_type": "code",
   "execution_count": 77,
   "metadata": {},
   "outputs": [
    {
     "ename": "IndentationError",
     "evalue": "unindent does not match any outer indentation level (<tokenize>, line 4)",
     "output_type": "error",
     "traceback": [
      "\u001b[0;36m  File \u001b[0;32m\"<tokenize>\"\u001b[0;36m, line \u001b[0;32m4\u001b[0m\n\u001b[0;31m    print(a.tolist())\u001b[0m\n\u001b[0m    ^\u001b[0m\n\u001b[0;31mIndentationError\u001b[0m\u001b[0;31m:\u001b[0m unindent does not match any outer indentation level\n"
     ]
    }
   ],
   "source": [
    "def tolist(iterable):\n",
    "    if iterable != np.ndarray:\n",
    "        return iterable\n",
    "    \n",
    " print(a.tolist())\n",
    " print(b.tolist())\n",
    " print(c.tolist())"
   ]
  },
  {
   "cell_type": "code",
   "execution_count": 80,
   "metadata": {},
   "outputs": [
    {
     "name": "stdout",
     "output_type": "stream",
     "text": [
      "[7 2 2 9 8 3]\n",
      "[[3 3 2 9]\n",
      " [1 9 3 7]\n",
      " [8 4 5 6]]\n",
      "[[[0 3]\n",
      "  [2 0]\n",
      "  [6 1]]\n",
      "\n",
      " [[6 7]\n",
      "  [8 3]\n",
      "  [4 3]]]\n"
     ]
    }
   ],
   "source": [
    "def tolist(iterable):\n",
    "    if type(iterable) != np.ndarray:\n",
    "        return iterable\n",
    "    return [tolist(obj) for obj in iterable]\n",
    "\n",
    "print(tolist(a))\n",
    "print(tolist(b))\n",
    "print(tolist(c))"
   ]
  }
 ],
 "metadata": {
  "kernelspec": {
   "display_name": "Python 3",
   "language": "python",
   "name": "python3"
  },
  "language_info": {
   "codemirror_mode": {
    "name": "ipython",
    "version": 3
   },
   "file_extension": ".py",
   "mimetype": "text/x-python",
   "name": "python",
   "nbconvert_exporter": "python",
   "pygments_lexer": "ipython3",
   "version": "3.8.5"
  }
 },
 "nbformat": 4,
 "nbformat_minor": 4
}
