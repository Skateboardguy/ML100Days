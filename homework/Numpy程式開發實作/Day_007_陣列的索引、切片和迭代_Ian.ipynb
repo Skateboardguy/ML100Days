{
 "cells": [
  {
   "cell_type": "markdown",
   "metadata": {
    "colab_type": "text",
    "id": "P6xk2_jLsvFF"
   },
   "source": [
    "# [作業目標]\n",
    "\n",
    "1. 請比較對一個 100 * 100 * 100 的陣列，使用不同方法對每一個元素 +1 的時間比較。\n",
    "\n",
    "2. 如何從一個陣列中，找出出現頻率最高的數值與位置？\n",
    "\n",
    "3. 如何利用 list(...) 實現 a.tolist() 的效果？試著用程式實作。\n"
   ]
  },
  {
   "cell_type": "markdown",
   "metadata": {
    "colab_type": "text",
    "id": "uXGll28asvFS"
   },
   "source": [
    "# 作業 "
   ]
  },
  {
   "cell_type": "code",
   "execution_count": null,
   "metadata": {},
   "outputs": [],
   "source": [
    "### 1. 請比較對一個 1000 x 100 x 100 的陣列，使用不同方法對每一個元素 +1 的時間比較。\n",
    "\n",
    "\n"
   ]
  },
  {
   "cell_type": "code",
   "execution_count": 85,
   "metadata": {},
   "outputs": [],
   "source": [
    "# 記得先 Import 正確的套件\n",
    "\n",
    "'''\n",
    "Your Code\n",
    "'''"
   ]
  },
  {
   "cell_type": "code",
   "execution_count": 85,
   "metadata": {
    "colab": {},
    "colab_type": "code",
    "collapsed": true,
    "id": "5QrYoyNWsvFS"
   },
   "outputs": [
    {
     "data": {
      "text/plain": [
       "array([[[3, 5, 0, ..., 4, 2, 0],\n",
       "        [6, 4, 5, ..., 0, 7, 7],\n",
       "        [3, 9, 7, ..., 5, 2, 4],\n",
       "        ...,\n",
       "        [0, 0, 7, ..., 2, 0, 2],\n",
       "        [4, 8, 3, ..., 3, 9, 8],\n",
       "        [8, 3, 8, ..., 0, 0, 3]],\n",
       "\n",
       "       [[9, 9, 6, ..., 0, 5, 3],\n",
       "        [5, 8, 7, ..., 3, 3, 9],\n",
       "        [4, 5, 0, ..., 9, 5, 0],\n",
       "        ...,\n",
       "        [0, 8, 8, ..., 0, 5, 8],\n",
       "        [7, 3, 2, ..., 5, 0, 0],\n",
       "        [4, 6, 4, ..., 9, 8, 0]],\n",
       "\n",
       "       [[9, 4, 5, ..., 3, 4, 7],\n",
       "        [5, 9, 0, ..., 1, 8, 5],\n",
       "        [9, 5, 4, ..., 9, 7, 3],\n",
       "        ...,\n",
       "        [8, 6, 6, ..., 0, 2, 1],\n",
       "        [6, 4, 1, ..., 6, 2, 8],\n",
       "        [5, 1, 5, ..., 1, 7, 4]],\n",
       "\n",
       "       ...,\n",
       "\n",
       "       [[7, 4, 3, ..., 8, 9, 1],\n",
       "        [6, 8, 2, ..., 4, 8, 9],\n",
       "        [4, 2, 1, ..., 3, 6, 5],\n",
       "        ...,\n",
       "        [2, 5, 6, ..., 2, 5, 9],\n",
       "        [9, 0, 9, ..., 3, 6, 3],\n",
       "        [8, 7, 4, ..., 4, 2, 3]],\n",
       "\n",
       "       [[9, 4, 3, ..., 5, 6, 6],\n",
       "        [5, 3, 6, ..., 3, 3, 1],\n",
       "        [0, 2, 4, ..., 0, 0, 4],\n",
       "        ...,\n",
       "        [9, 3, 9, ..., 7, 8, 9],\n",
       "        [4, 3, 3, ..., 3, 1, 6],\n",
       "        [4, 2, 3, ..., 3, 8, 5]],\n",
       "\n",
       "       [[3, 9, 0, ..., 6, 9, 9],\n",
       "        [1, 7, 5, ..., 9, 1, 3],\n",
       "        [9, 9, 6, ..., 0, 4, 3],\n",
       "        ...,\n",
       "        [9, 7, 6, ..., 7, 1, 2],\n",
       "        [2, 4, 9, ..., 5, 5, 9],\n",
       "        [7, 2, 7, ..., 6, 8, 8]]])"
      ]
     },
     "execution_count": 85,
     "metadata": {},
     "output_type": "execute_result"
    }
   ],
   "source": [
    "Z = np.random.randint(0, 10, 1000000).reshape(100, 100, 100)\n",
    "Z"
   ]
  },
  {
   "cell_type": "code",
   "execution_count": 91,
   "metadata": {},
   "outputs": [
    {
     "name": "stdout",
     "output_type": "stream",
     "text": [
      "33.2 ns ± 12.3 ns per loop (mean ± std. dev. of 7 runs, 10 loops each)\n"
     ]
    }
   ],
   "source": [
    "%timeit -n 10 a=2\n",
    "for i in Z:\n",
    "    for j in i:\n",
    "        for k in j:\n",
    "          i=i+1 \n",
    "         "
   ]
  },
  {
   "cell_type": "code",
   "execution_count": 103,
   "metadata": {},
   "outputs": [
    {
     "name": "stdout",
     "output_type": "stream",
     "text": [
      "37 ns ± 20.1 ns per loop (mean ± std. dev. of 7 runs, 10 loops each)\n"
     ]
    }
   ],
   "source": [
    "#flat\n",
    "#import timeit\n",
    "%timeit -n 10 a=2\n",
    "# Z2 = []\n",
    "# for i in Z.flat:\n",
    "#     Z2.append(i+1)\n",
    "# Z2 = np.array(Z2).reshape(100, 100, 100) \n",
    "\n",
    "for i in Z.flat:\n",
    "    i = i + 1"
   ]
  },
  {
   "cell_type": "code",
   "execution_count": 102,
   "metadata": {},
   "outputs": [
    {
     "name": "stdout",
     "output_type": "stream",
     "text": [
      "34.1 ns ± 12.8 ns per loop (mean ± std. dev. of 7 runs, 10 loops each)\n"
     ]
    }
   ],
   "source": [
    "#nditer \n",
    "%timeit -n 10 a =10\n",
    "# Z3 = []\n",
    "# for i in np.nditer(Z, order='C'):\n",
    "#     Z3.append(i+1)\n",
    "# Z3 = np.array(Z3).reshape(100, 100, 100) \n",
    "\n",
    "for i in np.nditer(Z):\n",
    "    i = i + 1"
   ]
  },
  {
   "cell_type": "markdown",
   "metadata": {},
   "source": [
    "### 2. 如何從一個陣列中，找出出現頻率最高的數值與位置？\n"
   ]
  },
  {
   "cell_type": "code",
   "execution_count": 29,
   "metadata": {
    "colab": {},
    "colab_type": "code",
    "id": "e1gVI0tvsvFY"
   },
   "outputs": [
    {
     "name": "stdout",
     "output_type": "stream",
     "text": [
      "[2 2 1 1 7 1 1 4 1 3 8 0 7 5 4 6 7 1 4 6 3 1 2 6 6 1 1 3 4 8 7 3 9 9 4 4 6\n",
      " 1 6 3 6 0 8 9 0 9 9 2 6 5]\n"
     ]
    }
   ],
   "source": [
    "\n",
    "Zmax = np.random.randint(0,10,50)\n",
    "print(Zmax)\n"
   ]
  },
  {
   "cell_type": "code",
   "execution_count": 113,
   "metadata": {},
   "outputs": [
    {
     "name": "stdout",
     "output_type": "stream",
     "text": [
      "次數出現最多的數值 : 1\n",
      "數值出現最多的位置 : [[ 2  3  5  6  8 17 21 25 26 37]]\n"
     ]
    }
   ],
   "source": [
    "Z1max = np.bincount(Zmax).argmax()\n",
    "print('次數出現最多的數值 :', Z1max)\n",
    "Z2max = np.array(np.where(Zmax == Z1max))\n",
    "#np.where(Z2max == Z1max)[0]\n",
    "print('數值出現最多的位置 :', Z2max)\n"
   ]
  },
  {
   "cell_type": "markdown",
   "metadata": {},
   "source": [
    "### 3. 如何利用 list(...) 實現 a.tolist() 的效果？試著用程式實作。\n"
   ]
  },
  {
   "cell_type": "code",
   "execution_count": 76,
   "metadata": {},
   "outputs": [
    {
     "name": "stdout",
     "output_type": "stream",
     "text": [
      "[7, 0, 5, 9, 0, 6]\n",
      "[7, 0, 5, 9, 0, 6]\n",
      "[7, 0, 5, 9, 0, 6]\n"
     ]
    }
   ],
   "source": [
    "a = np.random.randint(10,size = 6) \n",
    "print(list(a))\n",
    "print(a.tolist())\n",
    "x1=[]\n",
    "for i in list(a):\n",
    "    x1.append(i)\n",
    "print(x1)    \n",
    "\n"
   ]
  },
  {
   "cell_type": "code",
   "execution_count": 75,
   "metadata": {},
   "outputs": [
    {
     "name": "stdout",
     "output_type": "stream",
     "text": [
      "[array([7, 5, 3, 5]), array([6, 4, 3, 8]), array([3, 1, 1, 9])]\n",
      "[[7, 5, 3, 5], [6, 4, 3, 8], [3, 1, 1, 9]]\n",
      "[[7, 5, 3, 5], [6, 4, 3, 8], [3, 1, 1, 9]]\n"
     ]
    }
   ],
   "source": [
    "\n",
    "b = np.random.randint(10, size=(3,4)) \n",
    "print(list(b))\n",
    "print(b.tolist())\n",
    "x2=[]\n",
    "for i in list(b):\n",
    "   x2.append(list(i))\n",
    "print(x2)  \n",
    "\n"
   ]
  },
  {
   "cell_type": "code",
   "execution_count": 82,
   "metadata": {},
   "outputs": [
    {
     "name": "stdout",
     "output_type": "stream",
     "text": [
      "[array([[1, 4],\n",
      "       [2, 0],\n",
      "       [2, 6]]), array([[0, 7],\n",
      "       [1, 0],\n",
      "       [4, 5]])]\n",
      "[[[1, 4], [2, 0], [2, 6]], [[0, 7], [1, 0], [4, 5]]]\n",
      "[[array([1, 4]), array([2, 0]), array([2, 6])], [array([0, 7]), array([1, 0]), array([4, 5])]]\n"
     ]
    }
   ],
   "source": [
    "\n",
    "c = np.random.randint(10, size=(2,3,2)) \n",
    "print(list(c))\n",
    "print(c.tolist())\n",
    "x3 =[]\n",
    "for i in list(c):\n",
    "    x3.append(list(list(i)))\n",
    "print(x3)\n",
    "# for i in range(c.shape[0]):\n",
    "#     for j in range(c.shape[1]):\n",
    "#         x3.append(list(c[i][j]))\n",
    "# print(x3)"
   ]
  },
  {
   "cell_type": "code",
   "execution_count": 83,
   "metadata": {},
   "outputs": [
    {
     "name": "stdout",
     "output_type": "stream",
     "text": [
      "[4, 8, 3, 4, 6, 7]\n",
      "[[4, 1, 3, 5], [6, 3, 9, 7], [2, 0, 8, 1]]\n",
      "[[[3, 8], [5, 9], [5, 8]], [[4, 7], [2, 9], [5, 3]]]\n"
     ]
    }
   ],
   "source": [
    "a = np.random.randint(10,size = 6) \n",
    "b = np.random.randint(10, size=(3,4)) \n",
    "c = np.random.randint(10, size=(2,3,2)) \n",
    "def tolist(iterable):\n",
    "    if type(iterable) != np.ndarray:\n",
    "        return iterable\n",
    "    return [tolist(obj) for obj in iterable]\n",
    "\n",
    "print(tolist(a))\n",
    "print(tolist(b))\n",
    "print(tolist(c))"
   ]
  }
 ],
 "metadata": {
  "colab": {
   "name": "Day_023_HW.ipynb",
   "provenance": []
  },
  "kernelspec": {
   "display_name": "Python 3 (ipykernel)",
   "language": "python",
   "name": "python3"
  },
  "language_info": {
   "codemirror_mode": {
    "name": "ipython",
    "version": 3
   },
   "file_extension": ".py",
   "mimetype": "text/x-python",
   "name": "python",
   "nbconvert_exporter": "python",
   "pygments_lexer": "ipython3",
   "version": "3.8.16"
  }
 },
 "nbformat": 4,
 "nbformat_minor": 1
}
