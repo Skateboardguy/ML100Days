{
 "cells": [
  {
   "cell_type": "markdown",
   "metadata": {},
   "source": [
    "# 範例\n",
    "***"
   ]
  },
  {
   "cell_type": "markdown",
   "metadata": {},
   "source": [
    "# [教學目標]\n",
    "\n",
    "* 正確的使用 NumPy 中的算術運算\n",
    "* 了解 NumPy 陣列與數學矩陣的關係\n",
    "* 知道 NumPy 與 SciPy 差異為何\n"
   ]
  },
  {
   "cell_type": "code",
   "execution_count": 1,
   "metadata": {},
   "outputs": [
    {
     "name": "stdout",
     "output_type": "stream",
     "text": [
      "<module 'numpy' from '/Users/wei/.virtualenvs/py3/lib/python3.6/site-packages/numpy/__init__.py'>\n",
      "1.16.1\n"
     ]
    }
   ],
   "source": [
    "# 載入 NumPy 套件\n",
    "import numpy as np\n",
    "\n",
    "# 檢查正確載入與版本\n",
    "print(np)\n",
    "print(np.__version__)"
   ]
  },
  {
   "cell_type": "code",
   "execution_count": 2,
   "metadata": {},
   "outputs": [
    {
     "name": "stdout",
     "output_type": "stream",
     "text": [
      "[20 31 42 53]\n",
      "[  0  30  80 150]\n"
     ]
    }
   ],
   "source": [
    "# 相同大小的陣列運算\n",
    "\n",
    "import numpy as np\n",
    "\n",
    "a = np.array( [20,30,40,50] )\n",
    "b = np.arange( 4 )\n",
    "\n",
    "print(a + b)\n",
    "print(a * b)"
   ]
  },
  {
   "cell_type": "code",
   "execution_count": 3,
   "metadata": {},
   "outputs": [
    {
     "name": "stdout",
     "output_type": "stream",
     "text": [
      "[18 28 38 48]\n",
      "[2. 3. 4. 5.]\n"
     ]
    }
   ],
   "source": [
    "# 常數與陣列運算\n",
    "\n",
    "import numpy as np\n",
    "\n",
    "a = np.array( [20,30,40,50] )\n",
    "\n",
    "print(a - 2)\n",
    "print(a / 10)\n"
   ]
  },
  {
   "cell_type": "code",
   "execution_count": 1,
   "metadata": {},
   "outputs": [
    {
     "name": "stdout",
     "output_type": "stream",
     "text": [
      "[[2 3]\n",
      " [4 5]\n",
      " [6 7]]\n"
     ]
    }
   ],
   "source": [
    "# 不同大小的陣列運算\n",
    "\n",
    "import numpy as np\n",
    "\n",
    "data = np.array([[1, 2], [3, 4], [5, 6]])\n",
    "ones_row = np.array([[1, 1]])\n",
    "\n",
    "print(data + ones_row)\n"
   ]
  },
  {
   "cell_type": "code",
   "execution_count": 18,
   "metadata": {},
   "outputs": [
    {
     "name": "stdout",
     "output_type": "stream",
     "text": [
      "[21 31 41 51]\n",
      "[20, 30, 40, 50]\n",
      "[]\n",
      "[21, 31, 41, 51]\n"
     ]
    }
   ],
   "source": [
    "# 陣列運算與容器運算的差異\n",
    "\n",
    "a = np.array( [20,30,40,50] )\n",
    "print(a + 1)\n",
    "\n",
    "a = [20, 30, 40, 50]\n",
    "b = []\n",
    "print(a)\n",
    "print(b)\n",
    "for i in a:\n",
    "    b.append(i+1)\n",
    "print(b)\n"
   ]
  },
  {
   "cell_type": "code",
   "execution_count": 16,
   "metadata": {},
   "outputs": [
    {
     "name": "stdout",
     "output_type": "stream",
     "text": [
      "[[1. 2.]\n",
      " [3. 4.]]\n",
      "[[5.]\n",
      " [7.]]\n"
     ]
    }
   ],
   "source": [
    "# 用於陣列的矩陣運算\n",
    "\n",
    "a = np.array([[1.0, 2.0], [3.0, 4.0]])\n",
    "print(a)\n",
    "y = np.array([[5.], [7.]])\n",
    "print(y)"
   ]
  },
  {
   "cell_type": "code",
   "execution_count": 10,
   "metadata": {},
   "outputs": [
    {
     "name": "stdout",
     "output_type": "stream",
     "text": [
      "[[1. 3.]\n",
      " [2. 4.]]\n",
      "[[-2.   1. ]\n",
      " [ 1.5 -0.5]]\n",
      "5.0\n",
      "[[-3.]\n",
      " [ 4.]]\n"
     ]
    }
   ],
   "source": [
    "print(a.transpose())\n",
    "print(np.linalg.inv(a))\n",
    "print(np.trace(a))\n",
    "print(np.linalg.solve(a, y)) #反矩陣\n"
   ]
  },
  {
   "cell_type": "code",
   "execution_count": null,
   "metadata": {},
   "outputs": [],
   "source": []
  },
  {
   "cell_type": "markdown",
   "metadata": {},
   "source": [
    "## No\t函式\t說明\n",
    "\n",
    "- 1.diag:以一維陣列的形式返回方陣的對角線（或非對角線）元素，2. 或將一維陣列轉換為方陣（非對角線元素為0)  \n",
    "- 3\tdot\t矩陣乘法  \n",
    "- 4\ttrace\t計算對角線元素的和  \n",
    "- 5\tdet\t計算矩陣行列式  \n",
    "- 6\teig\t計算方陣的特徵值和特徵向量  \n",
    "- 7\tinv\t計算方陣的逆  \n",
    "- 8\tpinv計算矩陣的Moore - Penrose偽逆  \n",
    "- 9\tqr\t計算QR分解  \n",
    "- 10\tsvd\t計算奇異值分解（ SVD)  \n",
    "- 11\tsolve\t解線性方程組Ax= b ，其中A 為一個方陣  \n",
    "- 12\tlstsq\t計算Ax= b的最小二乘解"
   ]
  },
  {
   "cell_type": "code",
   "execution_count": 36,
   "metadata": {},
   "outputs": [
    {
     "name": "stdout",
     "output_type": "stream",
     "text": [
      "[[1. 3.]\n",
      " [2. 4.]]\n",
      "[[-2.   1. ]\n",
      " [ 1.5 -0.5]]\n",
      "[[1. 0.]\n",
      " [0. 1.]]\n",
      "2.0\n"
     ]
    }
   ],
   "source": [
    "a = np.array([[ 1.0 , 2.0], [ 3.0,4.0]])# array([[1., 2.],[3., 4.]])\n",
    "print(a.transpose())                       # array([[1., 3.],[2. , 4.]])\n",
    "print(np.linalg.inv(a))                 #計算方陣的逆              # array([[-2. , 1. ],[1.5, -0.5 ]])\n",
    "u = np.eye( 2)                          # unit 2x2matrix;    # array([[1.,  0.], [0.,  1.]])\n",
    "print(u)\n",
    "print(np.trace(u))  # 對角線元素和           # 2.0"
   ]
  },
  {
   "cell_type": "code",
   "execution_count": 34,
   "metadata": {},
   "outputs": [
    {
     "name": "stdout",
     "output_type": "stream",
     "text": [
      "[[ 0. -1.]\n",
      " [ 1.  0.]]\n",
      "[[-1.  0.]\n",
      " [ 0. -1.]]\n",
      "2.0\n"
     ]
    }
   ],
   "source": [
    "j = np.array([[0.0 , - 1.0], [ 1.0,0.0 ]])\n",
    "print(j)\n",
    "print(np.dot(j, j))   # matrix product          # array([[-1.,  0.],[ 0. , -1.]])\n",
    "\n",
    "   "
   ]
  },
  {
   "cell_type": "code",
   "execution_count": 40,
   "metadata": {},
   "outputs": [
    {
     "name": "stdout",
     "output_type": "stream",
     "text": [
      "2.0\n",
      "[[1.         1.41421356]\n",
      " [1.73205081 2.        ]]\n"
     ]
    }
   ],
   "source": [
    "print(np.sqrt(4))\n",
    "print(np.sqrt(a))"
   ]
  },
  {
   "cell_type": "markdown",
   "metadata": {},
   "source": [
    "NumPy 陣列運算 – 歐拉數 (Euler's number) 及指數函式 np.exp()\n",
    "--------------------------------------------------------------\n",
    "NumPy 提供歐拉常數 e (np.e)，以及指數函式 np.exp()，表示 ex。"
   ]
  },
  {
   "cell_type": "code",
   "execution_count": 50,
   "metadata": {},
   "outputs": [
    {
     "name": "stdout",
     "output_type": "stream",
     "text": [
      "2.718281828459045\n",
      "2.718281828459045\n"
     ]
    },
    {
     "ename": "NameError",
     "evalue": "name 'arange' is not defined",
     "output_type": "error",
     "traceback": [
      "\u001b[0;31m---------------------------------------------------------------------------\u001b[0m",
      "\u001b[0;31mNameError\u001b[0m                                 Traceback (most recent call last)",
      "\u001b[0;32m<ipython-input-50-899c8207fca8>\u001b[0m in \u001b[0;36m<module>\u001b[0;34m\u001b[0m\n\u001b[1;32m      2\u001b[0m \u001b[0mprint\u001b[0m\u001b[0;34m(\u001b[0m\u001b[0mnp\u001b[0m\u001b[0;34m.\u001b[0m\u001b[0me\u001b[0m   \u001b[0;34m)\u001b[0m\u001b[0;34m\u001b[0m\u001b[0;34m\u001b[0m\u001b[0m\n\u001b[1;32m      3\u001b[0m \u001b[0mprint\u001b[0m\u001b[0;34m(\u001b[0m\u001b[0mnp\u001b[0m\u001b[0;34m.\u001b[0m\u001b[0mexp\u001b[0m\u001b[0;34m(\u001b[0m\u001b[0;36m1\u001b[0m\u001b[0;34m)\u001b[0m\u001b[0;34m)\u001b[0m\u001b[0;34m\u001b[0m\u001b[0;34m\u001b[0m\u001b[0m\n\u001b[0;32m----> 4\u001b[0;31m \u001b[0mprint\u001b[0m\u001b[0;34m(\u001b[0m\u001b[0mnp\u001b[0m\u001b[0;34m.\u001b[0m\u001b[0mexp\u001b[0m\u001b[0;34m(\u001b[0m\u001b[0marange\u001b[0m\u001b[0;34m(\u001b[0m\u001b[0;36m5\u001b[0m\u001b[0;34m)\u001b[0m\u001b[0;34m)\u001b[0m\u001b[0;34m)\u001b[0m\u001b[0;34m\u001b[0m\u001b[0;34m\u001b[0m\u001b[0m\n\u001b[0m",
      "\u001b[0;31mNameError\u001b[0m: name 'arange' is not defined"
     ]
    }
   ],
   "source": [
    "# 兩個值相等\n",
    "print(np.e   )\n",
    "print(np.exp(1))\n",
    "print(np.exp(arange(5)))"
   ]
  },
  {
   "cell_type": "markdown",
   "metadata": {},
   "source": [
    "NumPy 陣列運算 – 對數函式\n",
    "--\n",
    "log 函式如下表："
   ]
  },
  {
   "cell_type": "markdown",
   "metadata": {},
   "source": [
    "- np.log(x) 底數為e  \n",
    "- np.log2(x) 底數為2  \n",
    "- np.log10(x) 底數為10  \n",
    "- np.log1p(x) 底數為e, 計算log(1+x)"
   ]
  },
  {
   "cell_type": "code",
   "execution_count": 64,
   "metadata": {},
   "outputs": [
    {
     "name": "stdout",
     "output_type": "stream",
     "text": [
      "2.0\n",
      "1.0986122886681098\n",
      "2.1972245773362196\n",
      "2.0\n"
     ]
    }
   ],
   "source": [
    "print(np.log2(4))\n",
    "print(np.log(3))\n",
    "print(np.log(9))\n",
    "print(np.log(9)/np.log(3))"
   ]
  }
 ],
 "metadata": {
  "kernelspec": {
   "display_name": "Python 3",
   "language": "python",
   "name": "python3"
  },
  "language_info": {
   "codemirror_mode": {
    "name": "ipython",
    "version": 3
   },
   "file_extension": ".py",
   "mimetype": "text/x-python",
   "name": "python",
   "nbconvert_exporter": "python",
   "pygments_lexer": "ipython3",
   "version": "3.8.8"
  }
 },
 "nbformat": 4,
 "nbformat_minor": 2
}
