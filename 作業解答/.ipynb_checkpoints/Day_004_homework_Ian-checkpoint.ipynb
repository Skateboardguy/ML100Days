{
 "cells": [
  {
   "cell_type": "code",
   "execution_count": 4,
   "id": "ffd763ca",
   "metadata": {},
   "outputs": [
    {
     "name": "stdout",
     "output_type": "stream",
     "text": [
      "【日期時間】2021-06-06 18:29:29\n",
      "【工作目錄】/Users/sky/Documents/GitHub/ML100Days/homework\n",
      "【主機名稱】127.0.0.1 (Skyde-MacBook-Air.local)\n",
      "【Python】3.8.8\n"
     ]
    }
   ],
   "source": [
    "from platform import python_version\n",
    "import os, time, socket\n",
    "import numpy as np\n",
    "\n",
    "#from time import localtime\n",
    "print('【日期時間】{0}'.format(time.strftime(\"%Y-%m-%d %H:%M:%S\")))\n",
    "os.chdir(\"/Users/sky/Documents/GitHub/ML100Days/homework\")\n",
    "print('【工作目錄】{}'.format(os.getcwd()))\n",
    "print(\"【主機名稱】{1} ({0})\".format(socket.gethostname(),socket.gethostbyname(socket.gethostname())))\n",
    "print(\"【Python】{}\".format(python_version()))"
   ]
  },
  {
   "cell_type": "code",
   "execution_count": 10,
   "id": "ae83ff21",
   "metadata": {},
   "outputs": [
    {
     "name": "stdout",
     "output_type": "stream",
     "text": [
      "【工作目錄】/Users/sky/Documents/GitHub/ML100Days/homework\n"
     ]
    }
   ],
   "source": [
    "# 更改目錄\n",
    "os.chdir(\"/Users/sky/Documents/GitHub/ML100Days/homework\")\n",
    "print('【工作目錄】{}'.format(os.getcwd()))"
   ]
  },
  {
   "cell_type": "code",
   "execution_count": null,
   "id": "0d347c41",
   "metadata": {},
   "outputs": [],
   "source": []
  },
  {
   "cell_type": "markdown",
   "id": "e6c1ecc8",
   "metadata": {},
   "source": [
    "### 1. [簡答題] 請問下列程式碼，運算結果分別為何？\n",
    "\n",
    "    a = np.array( [20,30,40,50] )  \n",
    "    b = np.array( [1,2,3,4] )   \n",
    "    c = 1  \n",
    "    d = np.array( [1] )  \n",
    "    e = np.array( [1,2] )   \n",
    "\n",
    "### 2. 如何在不用迴圈的情況下計算 (A+B)*(-A/2) ？那用迴圈怎麼做？\n",
    "### 3. 請問如何計算「1x6 的單位矩陣」和「6x1 的單位矩陣」的內積和外積？\n"
   ]
  },
  {
   "cell_type": "code",
   "execution_count": null,
   "id": "cf1a3c87",
   "metadata": {},
   "outputs": [],
   "source": [
    "# 1. \n"
   ]
  }
 ],
 "metadata": {
  "kernelspec": {
   "display_name": "Python 3",
   "language": "python",
   "name": "python3"
  },
  "language_info": {
   "codemirror_mode": {
    "name": "ipython",
    "version": 3
   },
   "file_extension": ".py",
   "mimetype": "text/x-python",
   "name": "python",
   "nbconvert_exporter": "python",
   "pygments_lexer": "ipython3",
   "version": "3.8.8"
  }
 },
 "nbformat": 4,
 "nbformat_minor": 5
}
